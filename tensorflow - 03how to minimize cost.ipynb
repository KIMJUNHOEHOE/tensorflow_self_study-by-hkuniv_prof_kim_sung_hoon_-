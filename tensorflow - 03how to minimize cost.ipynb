{
 "cells": [
  {
   "cell_type": "markdown",
   "metadata": {},
   "source": [
    "### cost(W)를 최소화하는 w를 어떻게 찾는가?"
   ]
  },
  {
   "cell_type": "markdown",
   "metadata": {},
   "source": [
    "### 강의안 참조\n",
    "### gradient descent algorithm - minimize\n",
    "convex function에서만 항상 최소화 하는 w값을 찾을 수 있음<br>\n",
    "아무 점에서 시작하여 점진적으로 경사를 낮추는 것"
   ]
  },
  {
   "cell_type": "markdown",
   "metadata": {},
   "source": [
    "### cost function의 tensorflow 구현"
   ]
  },
  {
   "cell_type": "code",
   "execution_count": 1,
   "metadata": {},
   "outputs": [],
   "source": [
    "import tensorflow as tf\n",
    "import matplotlib.pyplot as plt"
   ]
  },
  {
   "cell_type": "markdown",
   "metadata": {},
   "source": [
    "### minimizer 구현해보기"
   ]
  },
  {
   "cell_type": "code",
   "execution_count": 5,
   "metadata": {},
   "outputs": [
    {
     "name": "stdout",
     "output_type": "stream",
     "text": [
      "0 3.283631 [0.16117036]\n",
      "1 0.9340103 [0.5526242]\n",
      "2 0.26567408 [0.76139957]\n",
      "3 0.07556957 [0.8727464]\n",
      "4 0.02149533 [0.9321314]\n",
      "5 0.006114226 [0.9638034]\n",
      "6 0.0017391689 [0.9806951]\n",
      "7 0.0004946965 [0.9897041]\n",
      "8 0.00014071078 [0.99450886]\n",
      "9 4.002429e-05 [0.9970714]\n",
      "10 1.1385247e-05 [0.99843806]\n",
      "11 3.2384169e-06 [0.99916697]\n",
      "12 9.2107683e-07 [0.9995557]\n",
      "13 2.620956e-07 [0.999763]\n",
      "14 7.459953e-08 [0.9998736]\n",
      "15 2.1199597e-08 [0.9999326]\n",
      "16 6.0241105e-09 [0.99996406]\n",
      "17 1.7235919e-09 [0.9999808]\n",
      "18 4.9048293e-10 [0.99998975]\n",
      "19 1.4032746e-10 [0.9999945]\n",
      "20 4.0156323e-11 [0.9999971]\n",
      "21 1.1581847e-11 [0.99999845]\n",
      "22 3.0553338e-12 [0.99999917]\n",
      "23 1.0610771e-12 [0.9999995]\n",
      "24 2.6526928e-13 [0.99999976]\n"
     ]
    }
   ],
   "source": [
    "x_data = [1, 2, 3]\n",
    "y_data = [1, 2, 3]\n",
    "\n",
    "# Try to find values for W and b to compute y_data = W * x_data + b\n",
    "# We know that W should be 1 and b should be 0\n",
    "# But let's use TensorFlow to figure it out\n",
    "W = tf.Variable(tf.random_normal([1]), name='weight')\n",
    "\n",
    "X = tf.placeholder(tf.float32) #tensorflow 실행할 때 입력하겠다.\n",
    "Y = tf.placeholder(tf.float32)\n",
    "\n",
    "hypothesis = X*W\n",
    "\n",
    "cost = tf.reduce_mean(tf.square(hypothesis - Y))\n",
    "\n",
    "# 실제 minimizing 함수를 통해 w 찾기\n",
    "learning_rate = 0.1\n",
    "gradient = tf.reduce_mean((W*X-Y)*X)\n",
    "descent = W - learning_rate*gradient\n",
    "update = W.assign(descent) # tensor는 그냥 할당 안되고 assign 함수 써야함\n",
    "\n",
    "# Minimize: Gradient Descent Magic\n",
    "#optimizer = tf.train.GradientDescentOptimizer(learning_rate=0.1)\n",
    "#train = optimizer.minimize(cost)\n",
    "\n",
    "sess = tf.Session()\n",
    "\n",
    "sess.run(tf.global_variables_initializer())\n",
    "\n",
    "for step in range(25):\n",
    "    sess.run(update, feed_dict={X:x_data, Y:y_data})\n",
    "    print(step, sess.run(cost, feed_dict={X:x_data, Y:y_data}),sess.run(W))"
   ]
  },
  {
   "cell_type": "code",
   "execution_count": null,
   "metadata": {},
   "outputs": [],
   "source": []
  }
 ],
 "metadata": {
  "kernelspec": {
   "display_name": "Python 3",
   "language": "python",
   "name": "python3"
  },
  "language_info": {
   "codemirror_mode": {
    "name": "ipython",
    "version": 3
   },
   "file_extension": ".py",
   "mimetype": "text/x-python",
   "name": "python",
   "nbconvert_exporter": "python",
   "pygments_lexer": "ipython3",
   "version": "3.6.7"
  }
 },
 "nbformat": 4,
 "nbformat_minor": 2
}
