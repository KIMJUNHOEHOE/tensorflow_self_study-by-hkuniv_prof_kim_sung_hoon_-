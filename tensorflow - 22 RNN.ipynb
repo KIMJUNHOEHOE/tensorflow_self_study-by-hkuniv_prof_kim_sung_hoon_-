{
 "cells": [
  {
   "cell_type": "markdown",
   "metadata": {},
   "source": [
    "### RNN - NN의 꽃\n",
    "> - 심층 신경망의 일종\n",
    "> - 기존에 forward 형태의 NN에서 옆으로 네트워크가 확장되는 recurrent 형태의 NN으로 발전\n",
    "> - sequence data, series data 처리하는데 사용\n",
    "> - NN/CNN 은 sequence data를 처리하지 못함\n",
    "> - h(t) = f(h(t-1), x(t))\n",
    "> - h(t) = tanh(W(hh)h(t-1) + W(xh)x(t))\n",
    "> - y(t) = W(hy)h(t)"
   ]
  },
  {
   "cell_type": "code",
   "execution_count": null,
   "metadata": {},
   "outputs": [],
   "source": []
  }
 ],
 "metadata": {
  "kernelspec": {
   "display_name": "Python 3",
   "language": "python",
   "name": "python3"
  },
  "language_info": {
   "codemirror_mode": {
    "name": "ipython",
    "version": 3
   },
   "file_extension": ".py",
   "mimetype": "text/x-python",
   "name": "python",
   "nbconvert_exporter": "python",
   "pygments_lexer": "ipython3",
   "version": "3.6.6"
  }
 },
 "nbformat": 4,
 "nbformat_minor": 2
}
