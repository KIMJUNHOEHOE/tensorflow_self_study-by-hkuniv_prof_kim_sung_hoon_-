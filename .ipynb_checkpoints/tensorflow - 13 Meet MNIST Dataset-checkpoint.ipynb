{
 "cells": [
  {
   "cell_type": "markdown",
   "metadata": {},
   "source": [
    "### MNIST Dataset\n",
    "> - 우체국에서 여러 필체에서 우편번호를 식별하는데서 유래\n",
    "> - 28x28 pixel, 28*28 = 784, 흑백\n",
    "> - 해당 픽셀에 있으면 진함에 따라 1,2,3 .. 식별. 없으면 0\n",
    "> - X 변수는 속성 784개, Y 변수는 0~9로, one-hot 인코딩에 의해 10개의 범주 가짐"
   ]
  },
  {
   "cell_type": "markdown",
   "metadata": {},
   "source": [
    "### Training epoch/batch\n",
    "- one epoch : 전체 데이터 셋 한 번 트레이닝 시킨 것\n",
    "- batch size : 전체 데이터 셋 중에서 메모리에 올리기 위해 가져오는 데이터 개수\n",
    "- 전체 데이터 개수 1000개, batch size는 500이면, one epoch를 위해서 batch는 2번"
   ]
  },
  {
   "cell_type": "code",
   "execution_count": 2,
   "metadata": {},
   "outputs": [
    {
     "name": "stdout",
     "output_type": "stream",
     "text": [
      "Extracting MNIST_data/train-images-idx3-ubyte.gz\n",
      "Extracting MNIST_data/train-labels-idx1-ubyte.gz\n",
      "Extracting MNIST_data/t10k-images-idx3-ubyte.gz\n",
      "Extracting MNIST_data/t10k-labels-idx1-ubyte.gz\n",
      "Epoch: 0001 cost = 2.778309996\n",
      "Epoch: 0002 cost = 1.106518517\n",
      "Epoch: 0003 cost = 0.894716124\n",
      "Epoch: 0004 cost = 0.785319541\n",
      "Epoch: 0005 cost = 0.712885573\n",
      "Epoch: 0006 cost = 0.660967739\n",
      "Epoch: 0007 cost = 0.620209667\n",
      "Epoch: 0008 cost = 0.588929950\n",
      "Epoch: 0009 cost = 0.562263391\n",
      "Epoch: 0010 cost = 0.540662336\n",
      "Epoch: 0011 cost = 0.521439583\n",
      "Epoch: 0012 cost = 0.505124783\n",
      "Epoch: 0013 cost = 0.490902563\n",
      "Epoch: 0014 cost = 0.478064985\n",
      "Epoch: 0015 cost = 0.466770044\n",
      "Learning finished\n",
      "Accuracy:  0.8838\n",
      "Label:  [6]\n",
      "Prediction:  [6]\n"
     ]
    },
    {
     "data": {
      "image/png": "[encoded data removed]",
      "text/plain": [
       "<Figure size 432x288 with 1 Axes>"
      ]
     },
     "metadata": {
      "needs_background": "light"
     },
     "output_type": "display_data"
    }
   ],
   "source": [
    "# Lab 7 Learning rate and Evaluation\n",
    "import tensorflow as tf\n",
    "import random\n",
    "import matplotlib.pyplot as plt\n",
    "\n",
    "from tensorflow.examples.tutorials.mnist import input_data\n",
    "# Check out https://www.tensorflow.org/get_started/mnist/beginners for\n",
    "# more information about the mnist dataset\n",
    "mnist = input_data.read_data_sets(\"MNIST_data/\", one_hot=True) # Y값을 자동으로 one-hot으로 읽어옴\n",
    "\n",
    "nb_classes = 10 # 출력값은 0~9 숫자이므로 10개의 범주\n",
    "\n",
    "# MNIST data image of shape 28 * 28 = 784\n",
    "X = tf.placeholder(tf.float32, [None, 784])\n",
    "# 0 - 9 digits recognition = 10 classes\n",
    "Y = tf.placeholder(tf.float32, [None, nb_classes])\n",
    "\n",
    "W = tf.Variable(tf.random_normal([784, nb_classes]))\n",
    "b = tf.Variable(tf.random_normal([nb_classes]))\n",
    "\n",
    "# Hypothesis (using softmax)\n",
    "hypothesis = tf.nn.softmax(tf.matmul(X, W) + b) # matrix 곱\n",
    "\n",
    "cost = tf.reduce_mean(-tf.reduce_sum(Y * tf.log(hypothesis), axis=1)) # cost는 cross_entropy\n",
    "optimizer = tf.train.GradientDescentOptimizer(learning_rate=0.1).minimize(cost)\n",
    "\n",
    "# Test model\n",
    "is_correct = tf.equal(tf.argmax(hypothesis, axis=1), tf.argmax(Y, axis=1))\n",
    "# Calculate accuracy\n",
    "accuracy = tf.reduce_mean(tf.cast(is_correct, tf.float32))\n",
    "\n",
    "# parameters\n",
    "training_epochs = 15\n",
    "batch_size = 100 # 한 번에 메모리에 올릴 필요 없으므로 100개의 데이터 가져와라.\n",
    "\n",
    "with tf.Session() as sess:\n",
    "    # Initialize TensorFlow variables\n",
    "    sess.run(tf.global_variables_initializer())\n",
    "    # Training cycle\n",
    "    for epoch in range(training_epochs): # 전체 데이터는 15번 트레이닝\n",
    "        \n",
    "        avg_cost = 0\n",
    "        # ex) 10000개 데이터, batch size = 100 => 10000/100 = 100번\n",
    "        total_batch = int(mnist.train.num_examples / batch_size)\n",
    "        \n",
    "        # 일반적인 학습 방법 : 메모리 크기를 고려해서 학습.\n",
    "        # 한 번 batch해서 학습할 때마다 w값은 새로 할당됨.\n",
    "        # 100개 가져와서 cost 최소화 시키는 w 학습하고, 또 100개 가져와서 그 상태에서\n",
    "        # cost 최소화 시키는 w 학습\n",
    "        for i in range(total_batch):\n",
    "            batch_xs, batch_ys = mnist.train.next_batch(batch_size) # next batch\n",
    "            c, _ = sess.run([cost, optimizer], feed_dict={\n",
    "                            X: batch_xs, Y: batch_ys})\n",
    "            avg_cost += c / total_batch\n",
    "\n",
    "        print('Epoch:', '%04d' % (epoch + 1),\n",
    "              'cost =', '{:.9f}'.format(avg_cost))\n",
    "\n",
    "    print(\"Learning finished\")\n",
    "\n",
    "    # Test the model using test sets\n",
    "    # sess.run() 대신 accuracy.eval()을 통해 tense 실행. 하나만 실행할 때는 a.eval\n",
    "    print(\"Accuracy: \", accuracy.eval(session=sess, feed_dict={\n",
    "          X: mnist.test.images, Y: mnist.test.labels}))\n",
    "\n",
    "    # Get one and predict\n",
    "    # training/test data 모두 Y는 one-hot 으로 \n",
    "    r = random.randint(0, mnist.test.num_examples - 1)\n",
    "    # mnist.test.labels는 one-hot => argmax(data, axis=1) : 큰 값의 index return\n",
    "    print(\"Label: \", sess.run(tf.argmax(mnist.test.labels[r:r + 1], axis=1))) # axis=1 은 열 기준\n",
    "    print(\"Prediction: \", sess.run(\n",
    "        tf.argmax(hypothesis, 1), feed_dict={X: mnist.test.images[r:r + 1]}))\n",
    "\n",
    "    plt.imshow(\n",
    "        mnist.test.images[r:r + 1].reshape(28, 28),\n",
    "        cmap='Greys',\n",
    "        interpolation='nearest')\n",
    "    plt.show()"
   ]
  },
  {
   "cell_type": "code",
   "execution_count": null,
   "metadata": {},
   "outputs": [],
   "source": []
  }
 ],
 "metadata": {
  "kernelspec": {
   "display_name": "Python 3",
   "language": "python",
   "name": "python3"
  },
  "language_info": {
   "codemirror_mode": {
    "name": "ipython",
    "version": 3
   },
   "file_extension": ".py",
   "mimetype": "text/x-python",
   "name": "python",
   "nbconvert_exporter": "python",
   "pygments_lexer": "ipython3",
   "version": "3.6.6"
  }
 },
 "nbformat": 4,
 "nbformat_minor": 2
}
