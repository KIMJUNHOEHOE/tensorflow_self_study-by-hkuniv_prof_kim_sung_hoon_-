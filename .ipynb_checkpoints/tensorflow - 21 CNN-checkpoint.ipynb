{
 "cells": [
  {
   "cell_type": "markdown",
   "metadata": {},
   "source": [
    "### CNN\n",
    "> - 입력을 한 번에 넣는 것이 아니라, 여러개로 나누어 입력한 후 합친다\n",
    "> - 고양이 실험에서 시작\n",
    "> - 인간의 시신경이 사물을 인식하는 과정을 반영하여 NN 형성\n",
    "> - 인간의 시각세포는 여러 부분을 잘게 나누어 사물을 인식하고 뇌에서 조합함\n",
    "> - CONV - RELU - POOL 과정을 반복하여 최종으로 합침"
   ]
  },
  {
   "cell_type": "markdown",
   "metadata": {},
   "source": [
    "> 32x32x3 image<br>\n",
    "> 5x5x3 filter : one number을 만들어 냄<br>\n",
    "> 몇 개의 값을 도출할 수 있는가?<br>\n",
    "> (N-F)/stride + 1<br>\n",
    "> 28x28개 image output(stride=1인 경우)<br>\n",
    "> stride : filter가 움직이는 칸 수"
   ]
  },
  {
   "cell_type": "markdown",
   "metadata": {},
   "source": [
    "#### padding\n",
    "##### filter를 거치면서 점점 작아지면서 원래의 이미지값이 소실됨 \n",
    "> - 7x7 => padding => 9x9\n",
    "> - padding : 이미지의 급격한 감소를 방지,모서리라는 것을 알려줌"
   ]
  },
  {
   "cell_type": "markdown",
   "metadata": {},
   "source": [
    "##### 하나의 filter는 같은 가중치\n",
    "##### 여러 개의 filter를 적용하여 layer 생성"
   ]
  },
  {
   "cell_type": "code",
   "execution_count": null,
   "metadata": {},
   "outputs": [],
   "source": []
  }
 ],
 "metadata": {
  "kernelspec": {
   "display_name": "Python 3",
   "language": "python",
   "name": "python3"
  },
  "language_info": {
   "codemirror_mode": {
    "name": "ipython",
    "version": 3
   },
   "file_extension": ".py",
   "mimetype": "text/x-python",
   "name": "python",
   "nbconvert_exporter": "python",
   "pygments_lexer": "ipython3",
   "version": "3.6.6"
  }
 },
 "nbformat": 4,
 "nbformat_minor": 2
}
