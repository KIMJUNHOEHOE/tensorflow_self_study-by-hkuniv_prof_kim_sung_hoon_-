{
 "cells": [
  {
   "cell_type": "code",
   "execution_count": 2,
   "metadata": {},
   "outputs": [],
   "source": [
    "import tensorflow as tf\n",
    "\n",
    "x_data = [[1, 2],\n",
    "          [2, 3],\n",
    "          [3, 1],\n",
    "          [4, 3],\n",
    "          [5, 3],\n",
    "          [6, 2]]\n",
    "y_data = [[0],\n",
    "          [0],\n",
    "          [0],\n",
    "          [1],\n",
    "          [1],\n",
    "          [1]]"
   ]
  },
  {
   "cell_type": "code",
   "execution_count": 3,
   "metadata": {},
   "outputs": [],
   "source": [
    "# feed_dict를 위한 placeholder - 큰 데이터를 메모리 위에 한 번에 올리기 어렵기 때문\n",
    "X = tf.placeholder(tf.float32, shape=[None,2]) #instance 개수는 모르고, 변수 개수는 2개\n",
    "Y = tf.placeholder(tf.float32, shape=[None,1])"
   ]
  },
  {
   "cell_type": "code",
   "execution_count": 5,
   "metadata": {},
   "outputs": [],
   "source": [
    "W = tf.Variable(tf.random_normal([2,1]), name = 'weight') # weight의 shape\n",
    "b = tf.Variable(tf.random_normal([1]),name = 'bias')"
   ]
  },
  {
   "cell_type": "code",
   "execution_count": 6,
   "metadata": {},
   "outputs": [],
   "source": [
    "hypothesis = tf.sigmoid(tf.matmul(X,W)+b)\n",
    "\n",
    "cost = -tf.reduce_mean(Y*tf.log(hypothesis)+(1-Y)*tf.log(1-hypothesis))\n",
    "\n",
    "# minimize\n",
    "optimizer = tf.train.GradientDescentOptimizer(learning_rate=0.01)\n",
    "train = optimizer.minimize(cost)"
   ]
  },
  {
   "cell_type": "code",
   "execution_count": 9,
   "metadata": {},
   "outputs": [
    {
     "name": "stdout",
     "output_type": "stream",
     "text": [
      "0 \t 1.5079803\n",
      "200 \t 0.3676095\n",
      "400 \t 0.3527939\n",
      "600 \t 0.34054205\n",
      "800 \t 0.32940093\n",
      "1000 \t 0.3191423\n",
      "1200 \t 0.309602\n",
      "1400 \t 0.30066207\n",
      "1600 \t 0.2922383\n",
      "1800 \t 0.28426877\n",
      "2000 \t 0.2767068\n",
      "2200 \t 0.2695162\n",
      "2400 \t 0.2626675\n",
      "2600 \t 0.25613597\n",
      "2800 \t 0.24990028\n",
      "3000 \t 0.24394138\n",
      "3200 \t 0.23824249\n",
      "3400 \t 0.23278804\n",
      "3600 \t 0.22756386\n",
      "3800 \t 0.22255677\n",
      "4000 \t 0.21775454\n",
      "4200 \t 0.21314593\n",
      "4400 \t 0.20872033\n",
      "4600 \t 0.20446783\n",
      "4800 \t 0.20037915\n",
      "5000 \t 0.19644572\n",
      "5200 \t 0.19265936\n",
      "5400 \t 0.18901253\n",
      "5600 \t 0.18549804\n",
      "5800 \t 0.1821093\n",
      "6000 \t 0.17883992\n",
      "6200 \t 0.17568415\n",
      "6400 \t 0.1726364\n",
      "6600 \t 0.16969144\n",
      "6800 \t 0.16684441\n",
      "7000 \t 0.16409071\n",
      "7200 \t 0.16142601\n",
      "7400 \t 0.15884613\n",
      "7600 \t 0.15634735\n",
      "7800 \t 0.1539259\n",
      "8000 \t 0.15157853\n",
      "8200 \t 0.14930183\n",
      "8400 \t 0.14709276\n",
      "8600 \t 0.14494853\n",
      "8800 \t 0.1428663\n",
      "9000 \t 0.14084356\n",
      "9200 \t 0.1388777\n",
      "9400 \t 0.1369666\n",
      "9600 \t 0.13510786\n",
      "9800 \t 0.13329959\n",
      "10000 \t 0.1315396\n",
      "\n",
      "Hypothesis:  [[0.02356477]\n",
      " [0.14780492]\n",
      " [0.268441  ]\n",
      " [0.798558  ]\n",
      " [0.94988024]\n",
      " [0.98368007]] \n",
      "Predicted (Y):  [[0.]\n",
      " [0.]\n",
      " [0.]\n",
      " [1.]\n",
      " [1.]\n",
      " [1.]] \n",
      "Accuracy:  1.0\n"
     ]
    }
   ],
   "source": [
    "# hypothesis 는 0~1 사이 값이 나올것임\n",
    "# hypothesis > 0.5 : pass\n",
    "# hypothesis <= 0.5 : fail\n",
    "\n",
    "# casting : type 변환 false : 0 , True : 1\n",
    "predicted = tf.cast(hypothesis > 0.5, dtype=tf.float32)\n",
    "# 예측한 값의 정확력\n",
    "accuracy = tf.reduce_mean(tf.cast(tf.equal(predicted, Y), dtype=tf.float32))\n",
    "\n",
    "# launch tense - session을 실행하기 전까지는 그냥 tense graph일 뿐임\n",
    "with tf.Session() as sess:\n",
    "    # session 실행하고 나서는 무조건 tense의 변수 초기화\n",
    "    sess.run(tf.global_variables_initializer())\n",
    "    \n",
    "    for step in range(10001): # 반복을 통해 모델 세움(training set)\n",
    "        cost_val, _ = sess.run([cost,train], feed_dict={X:x_data,Y:y_data})\n",
    "        if step % 200 == 0 : # %%은 몫\n",
    "            print(step, '\\t', cost_val)\n",
    "    \n",
    "    # Accuracy report # 사실 새로운 데이터로 모델 검증해야 함(test set)\n",
    "    h, p, a = sess.run([hypothesis, predicted, accuracy], feed_dict={X: x_data, Y: y_data})\n",
    "    print(\"\\nHypothesis: \", h, \"\\nPredicted (Y): \", p, \"\\nAccuracy: \", a)"
   ]
  },
  {
   "cell_type": "code",
   "execution_count": null,
   "metadata": {},
   "outputs": [],
   "source": []
  }
 ],
 "metadata": {
  "kernelspec": {
   "display_name": "Python 3",
   "language": "python",
   "name": "python3"
  },
  "language_info": {
   "codemirror_mode": {
    "name": "ipython",
    "version": 3
   },
   "file_extension": ".py",
   "mimetype": "text/x-python",
   "name": "python",
   "nbconvert_exporter": "python",
   "pygments_lexer": "ipython3",
   "version": "3.6.6"
  }
 },
 "nbformat": 4,
 "nbformat_minor": 2
}
